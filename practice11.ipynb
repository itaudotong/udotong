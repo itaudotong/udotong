{
 "cells": [
  {
   "cell_type": "markdown",
   "metadata": {},
   "source": [
    "# EXERCISE 9: SQL Queries in Python\n",
    "## Ita U. Udotong\n",
    "## Department of Geography and Environmental Sustainability, University of Oklahoma\n",
    "## GIS 5653, Spatial Programming and GIS\n",
    "## Dr. Jennifer Koch\n",
    "## November, 2021\n"
   ]
  },
  {
   "cell_type": "markdown",
   "metadata": {},
   "source": [
    "### 1. Section 1 - Stepwise creation of SQL queries"
   ]
  },
  {
   "cell_type": "code",
   "execution_count": 154,
   "metadata": {},
   "outputs": [
    {
     "name": "stdout",
     "output_type": "stream",
     "text": [
      "tl_2019_us_county.shp, 'C:/Users/udot0000/Documents/GIS5653/ofo.shp', \"STATEFP\" = '02'\n"
     ]
    },
    {
     "data": {
      "text/html": [
       "<h2>Output</h2>C:\\Users\\udot0000\\Documents\\GIS5653\\ofo.shp<h2>Messages</h2>Start Time: Sunday, November 7, 2021 8:37:50 PM<br/>Succeeded at Sunday, November 7, 2021 8:37:51 PM (Elapsed Time: 0.15 seconds)<br/><style>.rendered_html td, .rendered_html th {text-align: left;}.rendered_html tbody {border: 1px solid black;}</style>"
      ],
      "text/plain": [
       "<Result 'C:\\\\Users\\\\udot0000\\\\Documents\\\\GIS5653\\\\ofo.shp'>"
      ]
     },
     "execution_count": 154,
     "metadata": {},
     "output_type": "execute_result"
    }
   ],
   "source": [
    "import arcpy\n",
    "arcpy.env.workspace = 'C:/Users/udot0000/Documents/GIS5653/Exercise_9'\n",
    "ofon1 = \"tl_2019_us_county.shp\"\n",
    "ofon2 = '\\'C:/Users/udot0000/Documents/GIS5653/ofo.shp\\''\n",
    "query_1 = '\"STATEFP\" = \\'02\\''\n",
    "fb_query = '{0}, {1}, {2}'.format(ofon1, ofon2, query_1)\n",
    "print(fb_query)\n",
    "arcpy.Select_analysis(\"tl_2019_us_county.shp\", 'C:/Users/udot0000/Documents/GIS5653/ofo.shp', Query_1)\n"
   ]
  },
  {
   "cell_type": "code",
   "execution_count": 153,
   "metadata": {},
   "outputs": [
    {
     "name": "stdout",
     "output_type": "stream",
     "text": [
      "tl_2019_us_county.shp, 'C:/Users/udot0000/Documents/GIS5653/ofon.shp', \"STATEFP\" = '41' OR \"STATEFP\" = '30' OR \"STATEFP\" = '53'\n"
     ]
    },
    {
     "data": {
      "text/html": [
       "<h2>Output</h2>C:\\Users\\udot0000\\Documents\\GIS5653\\ofon.shp<h2>Messages</h2>Start Time: Sunday, November 7, 2021 8:34:26 PM<br/>Succeeded at Sunday, November 7, 2021 8:34:26 PM (Elapsed Time: 0.20 seconds)<br/><style>.rendered_html td, .rendered_html th {text-align: left;}.rendered_html tbody {border: 1px solid black;}</style>"
      ],
      "text/plain": [
       "<Result 'C:\\\\Users\\\\udot0000\\\\Documents\\\\GIS5653\\\\ofon.shp'>"
      ]
     },
     "execution_count": 153,
     "metadata": {},
     "output_type": "execute_result"
    }
   ],
   "source": [
    "import arcpy\n",
    "arcpy.env.workspace = 'C:/Users/udot0000/Documents/GIS5653/Exercise_9'\n",
    "ofon1 = \"tl_2019_us_county.shp\"\n",
    "ofon2 = '\\'C:/Users/udot0000/Documents/GIS5653/ofon.shp\\''\n",
    "query_2 = '\"STATEFP\" = \\'41\\' OR \"STATEFP\" = \\'30\\' OR \"STATEFP\" = \\'53\\''\n",
    "statefb_query = '{0}, {1}, {2}'.format(ofon1, ofon2, query_2)\n",
    "print(statefb_query)\n",
    "arcpy.Select_analysis(\"tl_2019_us_county.shp\", 'C:/Users/udot0000/Documents/GIS5653/ofon.shp', query_2)"
   ]
  },
  {
   "cell_type": "code",
   "execution_count": 152,
   "metadata": {},
   "outputs": [
    {
     "name": "stdout",
     "output_type": "stream",
     "text": [
      "\"builtupp_usa.shp\", 'C:/Users/udot0000/Documents/GIS5653/ame3.shp', \"pop\" >= 500000\n"
     ]
    },
    {
     "data": {
      "text/html": [
       "<h2>Output</h2>C:\\Users\\udot0000\\Documents\\GIS5653\\ame3.shp<h2>Messages</h2>Start Time: Sunday, November 7, 2021 8:29:48 PM<br/>Succeeded at Sunday, November 7, 2021 8:29:48 PM (Elapsed Time: 0.20 seconds)<br/><style>.rendered_html td, .rendered_html th {text-align: left;}.rendered_html tbody {border: 1px solid black;}</style>"
      ],
      "text/plain": [
       "<Result 'C:\\\\Users\\\\udot0000\\\\Documents\\\\GIS5653\\\\ame3.shp'>"
      ]
     },
     "execution_count": 152,
     "metadata": {},
     "output_type": "execute_result"
    }
   ],
   "source": [
    "import arcpy\n",
    "arcpy.env.workspace = 'C:/Users/udot0000/Documents/GIS5653/Exercise_9'\n",
    "ita1 = '\"builtupp_usa.shp\"'\n",
    "ita2 = '\\'C:/Users/udot0000/Documents/GIS5653/ame3.shp\\''\n",
    "query_3 = '\"pop\" >= 500000'\n",
    "po_query = '{0}, {1}, {2}'.format(ita1, ita2, query_3)\n",
    "print(po_query)\n",
    "arcpy.Select_analysis(\"builtupp_usa.shp\", 'C:/Users/udot0000/Documents/GIS5653/ame3.shp', query_3)"
   ]
  },
  {
   "cell_type": "code",
   "execution_count": 151,
   "metadata": {},
   "outputs": [
    {
     "name": "stdout",
     "output_type": "stream",
     "text": [
      "\"builtupp_usa.shp\", 'C:/Users/udot0000/Documents/GIS5653/ame2.shp', \"nam\" = 'Albany'\n"
     ]
    },
    {
     "data": {
      "text/html": [
       "<h2>Output</h2>C:\\Users\\udot0000\\Documents\\GIS5653\\ame2.shp<h2>Messages</h2>Start Time: Sunday, November 7, 2021 8:23:08 PM<br/>Succeeded at Sunday, November 7, 2021 8:23:08 PM (Elapsed Time: 0.23 seconds)<br/><style>.rendered_html td, .rendered_html th {text-align: left;}.rendered_html tbody {border: 1px solid black;}</style>"
      ],
      "text/plain": [
       "<Result 'C:\\\\Users\\\\udot0000\\\\Documents\\\\GIS5653\\\\ame2.shp'>"
      ]
     },
     "execution_count": 151,
     "metadata": {},
     "output_type": "execute_result"
    }
   ],
   "source": [
    "import arcpy\n",
    "arcpy.env.workspace = 'C:/Users/udot0000/Documents/GIS5653/Exercise_9'\n",
    "ita1 = '\"builtupp_usa.shp\"'\n",
    "ita2 = '\\'C:/Users/udot0000/Documents/GIS5653/ame2.shp\\''\n",
    "query_4 = '\"nam\" = \\'Albany\\''\n",
    "nam_query = '{0}, {1}, {2}'.format(ita1, ita2, query_4)\n",
    "print(nam_query)\n",
    "arcpy.Select_analysis(\"builtupp_usa.shp\", 'C:/Users/udot0000/Documents/GIS5653/ame2.shp', query_4)"
   ]
  },
  {
   "cell_type": "code",
   "execution_count": 150,
   "metadata": {},
   "outputs": [
    {
     "name": "stdout",
     "output_type": "stream",
     "text": [
      "\"builtupp_usa.shp\", 'C:/Users/udot0000/Documents/GIS5653/ame4.shp', \"pop\" >= 10000 AND \"pop\" <= 100000\n"
     ]
    },
    {
     "data": {
      "text/html": [
       "<h2>Output</h2>C:\\Users\\udot0000\\Documents\\GIS5653\\ame4.shp<h2>Messages</h2>Start Time: Sunday, November 7, 2021 8:18:17 PM<br/>Succeeded at Sunday, November 7, 2021 8:18:18 PM (Elapsed Time: 0.47 seconds)<br/><style>.rendered_html td, .rendered_html th {text-align: left;}.rendered_html tbody {border: 1px solid black;}</style>"
      ],
      "text/plain": [
       "<Result 'C:\\\\Users\\\\udot0000\\\\Documents\\\\GIS5653\\\\ame4.shp'>"
      ]
     },
     "execution_count": 150,
     "metadata": {},
     "output_type": "execute_result"
    }
   ],
   "source": [
    "import arcpy\n",
    "arcpy.env.workspace = 'C:/Users/udot0000/Documents/GIS5653/Exercise_9'\n",
    "ita1 = '\"builtupp_usa.shp\"'\n",
    "ita2 = '\\'C:/Users/udot0000/Documents/GIS5653/ame4.shp\\''\n",
    "query_5 = '\"pop\" >= 10000 AND \"pop\" <= 100000'\n",
    "pop_query = '{0}, {1}, {2}'.format(ita1, ita2, query_5)\n",
    "print(pop_query)\n",
    "arcpy.Select_analysis(\"builtupp_usa.shp\", 'C:/Users/udot0000/Documents/GIS5653/ame4.shp', query_5)"
   ]
  },
  {
   "cell_type": "markdown",
   "metadata": {},
   "source": [
    "### 2. Sections 2 - Select counties in three states"
   ]
  },
  {
   "cell_type": "code",
   "execution_count": 233,
   "metadata": {},
   "outputs": [
    {
     "name": "stdout",
     "output_type": "stream",
     "text": [
      "\"STATEFP\" = \\'41\\'\n",
      "\"STATEFP\" = \\'30\\'\n",
      "\"STATEFP\" = \\'53\\'\n",
      "\"tl_2019_us_county.shp\", 'C:/Users/udot0000/Documents/GIS5653/ofon.shp', '\"STATEFP\" = \\'30\\' OR \"STATEFP\" = \\'41\\' OR \"STATEFP\" = \\'53\\''\n"
     ]
    },
    {
     "data": {
      "text/html": [
       "<h2>Output</h2>C:\\Users\\udot0000\\Documents\\GIS5653\\ofon.shp<h2>Messages</h2>Start Time: Sunday, November 7, 2021 11:19:09 PM<br/>Succeeded at Sunday, November 7, 2021 11:19:09 PM (Elapsed Time: 0.20 seconds)<br/><style>.rendered_html td, .rendered_html th {text-align: left;}.rendered_html tbody {border: 1px solid black;}</style>"
      ],
      "text/plain": [
       "<Result 'C:\\\\Users\\\\udot0000\\\\Documents\\\\GIS5653\\\\ofon.shp'>"
      ]
     },
     "execution_count": 233,
     "metadata": {},
     "output_type": "execute_result"
    }
   ],
   "source": [
    "import arcpy\n",
    "arcpy.env.workspace = 'C:/Users/udot0000/Documents/GIS5653/Exercise_9'\n",
    "ofon1 = '\"tl_2019_us_county.shp\"'\n",
    "ofon2 = '\\'C:/Users/udot0000/Documents/GIS5653/ofon.shp\\''\n",
    "statename = [41, 30, 53]\n",
    "\n",
    "# query_2 = '\"STATEFP\" = \\'41\\' OR \"STATEFP\" = \\'30\\' OR \"STATEFP\" = \\'53\\''\n",
    "# statefb_query = '{0}, {1}, {2}'.format(ofon1, ofon2, query_2)\n",
    "\n",
    "for name in statename:\n",
    "    if name == 30:\n",
    "        state = '\"STATEFP\" = \\\\\\'{}\\\\\\''.format(name)\n",
    "        state1 = state\n",
    "        print(state)\n",
    "    else:\n",
    "        if name == 41:\n",
    "            state = '\"STATEFP\" = \\\\\\'{}\\\\\\''.format(name)\n",
    "            state2 = state\n",
    "            print(state)\n",
    "        else:\n",
    "            state = '\"STATEFP\" = \\\\\\'{}\\\\\\''.format(name)\n",
    "            state3 = state\n",
    "            print(state)\n",
    "state_query = \"\\'\" + state1 + \" \" + \"OR\" \" \" + state2 + \" \" +  \"OR\" \" \" + state3 + \"\\'\"\n",
    "final_query = '{0}, {1}, {2}'.format(ofon1, ofon2, state_query)\n",
    "print(final_query)\n",
    "arcpy.Select_analysis(\"tl_2019_us_county.shp\", 'C:/Users/udot0000/Documents/GIS5653/ofon.shp', '\"STATEFP\" = \\'30\\' OR \"STATEFP\" = \\'41\\' OR \"STATEFP\" = \\'53\\'')"
   ]
  },
  {
   "cell_type": "code",
   "execution_count": null,
   "metadata": {},
   "outputs": [],
   "source": []
  }
 ],
 "metadata": {
  "kernelspec": {
   "display_name": "Python 3",
   "language": "python",
   "name": "python3"
  },
  "language_info": {
   "codemirror_mode": {
    "name": "ipython",
    "version": 3
   },
   "file_extension": ".py",
   "mimetype": "text/x-python",
   "name": "python",
   "nbconvert_exporter": "python",
   "pygments_lexer": "ipython3",
   "version": "3.7.9"
  }
 },
 "nbformat": 4,
 "nbformat_minor": 4
}

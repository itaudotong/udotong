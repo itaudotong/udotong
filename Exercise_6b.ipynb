{
 "cells": [
  {
   "cell_type": "markdown",
   "metadata": {},
   "source": [
    "# EXERCISE 6: Version Control and Conditionals\n",
    "## Ita U. Udotong\n",
    "## Department of Geography and Environmental Sustainability, University of Oklahoma\n",
    "## GIS 5653, Spatial Programming and GIS\n",
    "## Dr. Jennifer Koch\n",
    "## October 3, 2021\n"
   ]
  },
  {
   "cell_type": "markdown",
   "metadata": {},
   "source": [
    "## Section 1"
   ]
  },
  {
   "cell_type": "code",
   "execution_count": null,
   "metadata": {},
   "outputs": [],
   "source": []
  },
  {
   "cell_type": "markdown",
   "metadata": {},
   "source": [
    "## Section 2"
   ]
  },
  {
   "cell_type": "code",
   "execution_count": 1,
   "metadata": {},
   "outputs": [
    {
     "name": "stdout",
     "output_type": "stream",
     "text": [
      "This is a float!\n"
     ]
    }
   ],
   "source": [
    "h = 2.5 \n",
    "k = 5\n",
    "v = \"Solution\"\n",
    "if k/2 == h:\n",
    "    print(\"This is a float!\")    \n",
    "elif h + h == 5:\n",
    "    print(\"This is an integer!\")\n",
    "else:\n",
    "    print(\"This is a string!\")"
   ]
  },
  {
   "cell_type": "markdown",
   "metadata": {},
   "source": [
    "## Section 3"
   ]
  },
  {
   "cell_type": "code",
   "execution_count": 1,
   "metadata": {},
   "outputs": [
    {
     "name": "stdout",
     "output_type": "stream",
     "text": [
      "Age 6\n",
      "Adimission is $6\n"
     ]
    }
   ],
   "source": [
    "age = input(\"Age \") # Age of the fair visitor\n",
    "age = int(age) # Converting input variable to integer\n",
    "if age <= 5: # Condition for age 5 and under\n",
    "    print(\"Admission is FREE\") # Printing admission for age 5 and under\n",
    "elif age <= 11: # Condition for ages 6 - 11\n",
    "    print(\"Adimission is $6\") # Printing admission for ages 6 - 11\n",
    "else: # Condition for ages 12 and above\n",
    "    print(\"Admission is $12\") # Printing admission for ages 12 and above\n"
   ]
  }
 ],
 "metadata": {
  "kernelspec": {
   "display_name": "Python 3",
   "language": "python",
   "name": "python3"
  },
  "language_info": {
   "codemirror_mode": {
    "name": "ipython",
    "version": 3
   },
   "file_extension": ".py",
   "mimetype": "text/x-python",
   "name": "python",
   "nbconvert_exporter": "python",
   "pygments_lexer": "ipython3",
   "version": "3.6.10"
  }
 },
 "nbformat": 4,
 "nbformat_minor": 2
}
